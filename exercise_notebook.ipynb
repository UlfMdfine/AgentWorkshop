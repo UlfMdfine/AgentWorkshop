{
 "cells": [
  {
   "cell_type": "markdown",
   "id": "48c64f14",
   "metadata": {},
   "source": [
    "# Exercises"
   ]
  },
  {
   "cell_type": "markdown",
   "id": "603815b4",
   "metadata": {},
   "source": [
    "**Setup:**\n",
    "\n",
    "To start or re-start your app, run the following code cell:"
   ]
  },
  {
   "cell_type": "code",
   "execution_count": null,
   "id": "15aebedf",
   "metadata": {
    "vscode": {
     "languageId": "plaintext"
    }
   },
   "outputs": [],
   "source": [
    "from utils import start_or_restart_streamlit_app\n",
    "\n",
    "start_or_restart_streamlit_app(\"streamlit_app.py\", port=8501)"
   ]
  },
  {
   "cell_type": "markdown",
   "id": "086b130b",
   "metadata": {},
   "source": [
    "The Streamlit app is organized into four distinct tabs, each serving a specific purpose\n",
    "- **Data Viewer**: Preview the underlying dataset to understand its structure, columns, and sample values. This helps establish context before generating reports.\n",
    "- **Report Generation**: Compose prompts and trigger report creation using the agentic system. Once generated, the report is displayed directly in the app and can be exported as a `.docx` file.\n",
    "- **Agentic Thinking**: Visualizes the agentic reasoning process step by step. Each function call, including its parameters and outcomes, is shown. This view is especially useful for debugging, verifying workflows, and identifying unexpected behavior.\n",
    "- **Agentic Architecture**: Presents a visual diagram of the multi-agent system’s architecture. This illustrates how individual agents interact and coordinate to generate outputs, offering insights into the underlying orchestration logic.\n"
   ]
  },
  {
   "cell_type": "markdown",
   "id": "6934b35a",
   "metadata": {},
   "source": [
    "**🧠 Task 1**\n",
    "\n",
    "First of all, it's time to get familiar with the agent system and its overall functionality.\n",
    "\n",
    "Try using the following example prompt."
   ]
  },
  {
   "cell_type": "markdown",
   "id": "90b5da36",
   "metadata": {},
   "source": [
    "`Please do not create a report, only answer the following requests: Please list all the agents you have access to. What is the purpose of each agent? List all the tools each agent has access to.`"
   ]
  },
  {
   "cell_type": "markdown",
   "id": "653a958c",
   "metadata": {},
   "source": [
    "Additionaly, inspect the agent architecture by using the **Agentic Architecture** tab."
   ]
  },
  {
   "cell_type": "markdown",
   "id": "2d24eff4",
   "metadata": {},
   "source": [
    "**🧠 Task 2**\n",
    "\n",
    "Now, let’s try the first prompt, which generates a report that includes both a distribution analysis and a discriminatory power analysis.\n",
    "\n",
    "Run the following prompt and observe the **Agentic Thinking** tab to follow the step-by-step reasoning process. The resulting report will contain the computed metrics and visualizations."
   ]
  },
  {
   "cell_type": "markdown",
   "id": "622b1851",
   "metadata": {},
   "source": [
    "`First, perform a ROE distribution plot for the given CSV file. Plot the distribution of the credit rating, weight by exposure and group by employment status.\n",
    "Additionaly, plot the discriminatory power using Somers' D as the method. For the time variable use the reporting date and for the target use the default flag.`"
   ]
  },
  {
   "cell_type": "markdown",
   "id": "ae45f6a0",
   "metadata": {},
   "source": [
    "**🧠 Task 3**\n",
    "\n",
    "Now it's your turn to write your own prompt. The goal is to generate a migration matrix for the year **2022**.\n",
    "\n",
    "*Hint*: If no report is generated, check the **Agentic Thinking** tab - especially the input parameters - for potential issues or mismatches."
   ]
  },
  {
   "cell_type": "markdown",
   "id": "29e36f44",
   "metadata": {},
   "source": [
    "**🧠 Task 4**"
   ]
  },
  {
   "cell_type": "markdown",
   "id": "85bf12d8",
   "metadata": {},
   "source": [
    "Imagine a colleague approaches you for assistance with an analysis.\n",
    "They explain that they’ve tried using the tool, but their prompt isn’t producing a report.\n",
    "\n",
    "You offer to investigate by reviewing the shown answer as well as the **Agentic Thinking** process to identify what went wrong - focusing on possible issues with the input parameters. Once the problem is clear, you plan to revise and send them a corrected prompt."
   ]
  },
  {
   "cell_type": "markdown",
   "id": "a67c7c0c",
   "metadata": {},
   "source": [
    "🔎 The original (failing) prompt is shown below:"
   ]
  },
  {
   "cell_type": "markdown",
   "id": "12491afd",
   "metadata": {},
   "source": [
    "`Please calculate the PSI using the first of June of 2024. Additionally, please explain the PSI and for what it is used.`"
   ]
  },
  {
   "cell_type": "markdown",
   "id": "9b9bd331",
   "metadata": {},
   "source": [
    "**Optional:**\n",
    "\n",
    "You identify the problem, and your colleague thanks you for your help.\n",
    "You then show them how to locate the error message, enabling them to debug similar issues on their own in the future.\n",
    "\n",
    "Reflecting on the experience, you consider whether the error message in the function `backend/tools/calc_psi_wrapper` could be enhanced — so that next time, colleagues wouldn’t need to run an additional prompt to understand the issue. Instead, the fix could be made clear directly within the thinking process output.\n"
   ]
  },
  {
   "cell_type": "markdown",
   "id": "eac33305",
   "metadata": {},
   "source": [
    "**🧠 Task 5**"
   ]
  },
  {
   "cell_type": "markdown",
   "id": "822d9f3b",
   "metadata": {},
   "source": [
    "You come up with a great idea: in addition to generating automated visualizations, what if there were an agent dedicated to *describing the generated charts*? You wonder whether such a **commentary agent** could be integrated into the overall agent architecture.\n",
    "\n",
    "After a bit of research, you discover that implementing this is quite straightforward. The following steps are required:\n",
    "1. In `backend/agents.py`, define a new agent called `commentary_agent`. This agent should use the existing `summarize_chart` tool, which is already imported. By reviewing the existing agents, such as `statistics_agent` and `word_agent`, you realize this task is entirely manageable — even if you're not familiar with Python.\n",
    "2. Add the `commentary_agent` to the agent list managed by the `supervisor`.\n",
    "3. Update the `supervisor`’s prompt so that it knows when to call the `commentary_agent` in response to relevant tasks."
   ]
  },
  {
   "cell_type": "markdown",
   "id": "d891771b",
   "metadata": {},
   "source": [
    "To test your implementation, restart the Streamlit app by running the first two code cells in this notebook. Then, navigate to the **Agentic Architecture** tab and check whether your newly added agent appears as expected."
   ]
  },
  {
   "cell_type": "markdown",
   "id": "3b7a9ff4",
   "metadata": {},
   "source": [
    "**🧠 Task 6**"
   ]
  },
  {
   "cell_type": "markdown",
   "id": "ae20b93c",
   "metadata": {},
   "source": [
    "Repeat any of tasks 1–4 based on your preferences, and observe how the generated answers and reports differ."
   ]
  },
  {
   "cell_type": "markdown",
   "id": "fda377f5",
   "metadata": {},
   "source": [
    "**🧠 Task 7**"
   ]
  },
  {
   "cell_type": "markdown",
   "id": "4a56ff8a",
   "metadata": {},
   "source": [
    "To conclude, you should compile a comprehensive report by gathering and integrating all previous prompts into a complete and final version."
   ]
  },
  {
   "cell_type": "markdown",
   "id": "5896c279",
   "metadata": {},
   "source": [
    "**Optional:**\n",
    "\n",
    "Try using the same prompt in a different language of your choice to test the system’s multilingual capabilities."
   ]
  }
 ],
 "metadata": {
  "language_info": {
   "name": "python"
  }
 },
 "nbformat": 4,
 "nbformat_minor": 5
}
