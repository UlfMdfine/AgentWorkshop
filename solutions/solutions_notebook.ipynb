{
 "cells": [
  {
   "cell_type": "markdown",
   "id": "f7be1d71",
   "metadata": {},
   "source": [
    "# Exercises"
   ]
  },
  {
   "cell_type": "markdown",
   "id": "a2dd8c42",
   "metadata": {},
   "source": [
    "**Setup:**\n",
    "\n",
    "To start or re-start your app, run the following code cell:"
   ]
  },
  {
   "cell_type": "code",
   "execution_count": null,
   "id": "508ec27b",
   "metadata": {
    "vscode": {
     "languageId": "plaintext"
    }
   },
   "outputs": [],
   "source": [
    "from utils import start_or_restart_streamlit_app\n",
    "\n",
    "start_or_restart_streamlit_app(\"streamlit_app.py\", port=8501)"
   ]
  },
  {
   "cell_type": "markdown",
   "id": "ec9bdcc5",
   "metadata": {},
   "source": [
    "**Overview:**\n",
    "\n",
    "The Streamlit app is organized into four distinct tabs, each serving a specific purpose\n",
    "- **Data Viewer**: Preview the underlying dataset to understand its structure, columns, and sample values. This helps establish context before generating reports.\n",
    "- **Report Generation**: Compose prompts and trigger report creation using the agentic system. Once generated, the report is displayed directly in the app and can be exported as a `.docx` file.\n",
    "- **Agentic Thinking**: Visualizes the agentic reasoning process step by step. Each function call, including its parameters and outcomes, is shown. This view is especially useful for debugging, verifying workflows, and identifying unexpected behavior.\n",
    "- **Agentic Architecture**: Presents a visual diagram of the multi-agent system’s architecture. This illustrates how individual agents interact and coordinate to generate outputs, offering insights into the underlying orchestration logic.\n"
   ]
  },
  {
   "cell_type": "markdown",
   "id": "3133c8c7",
   "metadata": {},
   "source": [
    "**🧠 Task 1**\n",
    "\n",
    "First of all, it's time to get familiar with the agent system and its overall functionality.\n",
    "\n",
    "Try using the following example prompt."
   ]
  },
  {
   "cell_type": "markdown",
   "id": "899b3bb5",
   "metadata": {
    "lines_to_next_cell": 0
   },
   "source": [
    "`Please do not create a report, only answer the following requests: Please list all the agents you have access to. What is the purpose of each agent? Ask the statistics agent to provide the tools that they have access to and add it to the summary.`"
   ]
  },
  {
   "cell_type": "markdown",
   "id": "ee9b1d77",
   "metadata": {},
   "source": [
    "Additionaly, inspect the agent architecture by using the **Agentic Architecture** tab."
   ]
  },
  {
   "cell_type": "markdown",
   "id": "2a7fe198",
   "metadata": {},
   "source": [
    "**✅ Possible solution for task 1**\n",
    "\n",
    "Copying the prompt from the task and then clicking on 'Generate' in the 'Report Generation' tab should result in a short summary that lists the three agents (supervisor, statistics and word agent).\n",
    "Additionally, each agent except the supervisory agent should list their tools.\n",
    "Clicking on the Agentic Thinking tab shows the interactions of the individual agents and the coordination by the supervisor.\n",
    "Clicking on the tab Agentic Architecture should show you a flow chart about how the agents interact.\n",
    "\n",
    "Optional follow-up: You can also try out prompts to get more information about specific tools. Example:"
   ]
  },
  {
   "cell_type": "markdown",
   "id": "0630a15c",
   "metadata": {},
   "source": [
    "`Ask the statistics agent what the tool plot_roe_discriminatory_power_wrapper does and what the function expects as input.`"
   ]
  },
  {
   "cell_type": "markdown",
   "id": "3207e4da",
   "metadata": {},
   "source": [
    "**🧠 Task 2**\n",
    "\n",
    "Now, let’s try the first prompt, which generates a report that includes both a distribution analysis and a discriminatory power analysis.\n",
    "\n",
    "Run the following prompt and observe the **Agentic Thinking** tab to follow the step-by-step reasoning process. The resulting report will contain the computed metrics and visualizations."
   ]
  },
  {
   "cell_type": "markdown",
   "id": "791cb5c2",
   "metadata": {},
   "source": [
    "`First, perform a ROE distribution plot for the given CSV file. Plot the distribution of the credit rating, weight by exposure and group by employment status.\n",
    "Additionally, plot the discriminatory power using Somers' D as the method. For the time variable use the reporting date and for the target use the default flag.`"
   ]
  },
  {
   "cell_type": "markdown",
   "id": "a890a120",
   "metadata": {},
   "source": [
    "**✅ Possible solution for task 2**\n",
    "\n",
    "Copying the prompt from the task and then clicking on 'Generate' in the 'Report Generation' tab should result in the creating of a report after some compuation time.\n",
    "The report should be shown in the Report Generation tab. It should consist of one plot for the distribution analysis and one plot for the discriminatory power analysis."
   ]
  },
  {
   "cell_type": "markdown",
   "id": "67d504d3",
   "metadata": {},
   "source": [
    "**🧠 Task 3**\n",
    "\n",
    "You come up with a great idea: in addition to generating automated visualizations, what if there were an agent dedicated to *describing the generated charts*? You wonder whether such a **commentary agent** could be integrated into the overall agent architecture.\n",
    "\n",
    "After a bit of research, you discover that implementing this is quite straightforward. The following steps are required (see `TODO` comments in `backend/agents.py`):\n",
    "1. In `backend/agents.py`, define a new agent called `commentary_agent`. This agent should use the existing `summarize_chart` tool, which is already imported. By reviewing the existing agents, such as `statistics_agent` and `word_agent`, you realize this task is entirely manageable — even if you're not familiar with Python.\n",
    "2. Add the `commentary_agent` to the agent list managed by the `supervisor`.\n",
    "3. Update the `supervisor`’s prompt so that it knows when to call the `commentary_agent` in response to relevant tasks.\n",
    "\n",
    "To test your implementation, restart the Streamlit app by running the first code cell in this notebook. Then, navigate to the **Agentic Architecture** tab and check whether your newly added agent appears as expected.\n",
    "\n",
    "*Hint:* If you're unsure how to integrate the **commentary agent**, you can refer to the working example in solutions/agents.py. To apply it, simply copy the entire code from that file and replace the contents of backend/agents.py with it."
   ]
  },
  {
   "cell_type": "markdown",
   "id": "c4ee57aa",
   "metadata": {},
   "source": [
    "**✅ Possible solution for task 3**\n",
    "\n",
    "The required additions to implement the commentary agent and necessary changes in the supervisor code can be found in the solutions/agents.py code.\n",
    "Simply copy the entire code from that file and replace the contents of backend/agents.py with it."
   ]
  },
  {
   "cell_type": "markdown",
   "id": "feb541bb",
   "metadata": {
    "vscode": {
     "languageId": "plaintext"
    }
   },
   "source": [
    "**🧠 Task 4**\n",
    "\n",
    "Repeat Task 1 and Task 2, and observe how the generated answers and reports differ."
   ]
  },
  {
   "cell_type": "markdown",
   "id": "eca98b36",
   "metadata": {},
   "source": [
    "**✅ Possible solution for task 4**\n",
    "\n",
    "**Remark**: The report should now not only show the plots but also include an automatically created summary for each plot."
   ]
  },
  {
   "cell_type": "markdown",
   "id": "221aaa92",
   "metadata": {},
   "source": [
    "**🧠 Task 5**\n",
    "\n",
    "Now it's your turn to write your own prompt. The goal is to generate a migration matrix for the year **2022**.\n",
    "\n",
    "*Hint*: If no report is generated, check the **Agentic Thinking** tab - especially the input parameters - for potential issues or mismatches."
   ]
  },
  {
   "cell_type": "markdown",
   "id": "f79a5390",
   "metadata": {},
   "source": [
    "**✅ Possible solution for task 5**\n",
    "\n",
    "One possible prompt is shown below."
   ]
  },
  {
   "cell_type": "markdown",
   "id": "af57cae5",
   "metadata": {},
   "source": [
    "`Please calculate and plot a migration matrix to see the rating class movement of customers from 2021 to 2022.`"
   ]
  },
  {
   "cell_type": "markdown",
   "id": "34c8baf1",
   "metadata": {
    "lines_to_next_cell": 2
   },
   "source": [
    "Side note: Copying the task 'The goal is to generate a migration matrix for the year **2022**.' should also already work. If you compare the plot description of both results you should see a difference resulting from the more detailed prompt."
   ]
  },
  {
   "cell_type": "markdown",
   "id": "75158aa5",
   "metadata": {},
   "source": [
    "**🧠 Task 6**"
   ]
  },
  {
   "cell_type": "markdown",
   "id": "03511b7b",
   "metadata": {},
   "source": [
    "Imagine a colleague approaches you for assistance.\n",
    "They explain that they’ve tried using the tool via a first example prompt, but their prompt isn’t producing a report.\n",
    "\n",
    "You offer to investigate by reviewing the shown answer as well as the **Agentic Thinking** process to identify what went wrong.\n",
    "Does the prompt make sense for the underlying data? Modify the prompt such that it works while considering the input from the previous task."
   ]
  },
  {
   "cell_type": "markdown",
   "id": "a31c0918",
   "metadata": {},
   "source": [
    "🔎 The original (failing) prompt is shown below:"
   ]
  },
  {
   "cell_type": "markdown",
   "id": "2ce93ef2",
   "metadata": {},
   "source": [
    "`Please calculate the PSI using the first of June of 2024. Additionally, please explain the PSI and for what it is used.`"
   ]
  },
  {
   "cell_type": "markdown",
   "id": "b7e721f9",
   "metadata": {},
   "source": [
    "**✅ Possible solution for task 6**\n",
    "\n",
    "The problem is that the last available date in the sample dataset is 2023-06-01. Therefore, the example prompt cannot produce meaningful results and returns an error message.\n",
    "A possible way to debug this problem is the following. First, we ask, what the available reporting dates are available via:"
   ]
  },
  {
   "cell_type": "markdown",
   "id": "a2698e26",
   "metadata": {},
   "source": [
    "`Please show me the unique reporting dates in the dataset.`"
   ]
  },
  {
   "cell_type": "markdown",
   "id": "2088400d",
   "metadata": {},
   "source": [
    "This should result in a list of four dates each being the first of June of 2020 - 2023. So we can simply replace the year 2024, e.g.:"
   ]
  },
  {
   "cell_type": "markdown",
   "id": "bdfe6a6f",
   "metadata": {},
   "source": [
    "`Please calculate the PSI using the first of June 2022. Additionally, please explain the PSI and for what it is used.`"
   ]
  },
  {
   "cell_type": "markdown",
   "id": "a76bca56",
   "metadata": {},
   "source": [
    "Side note 1: The error message in the function `backend/tools/calc_psi_wrapper` could be enhanced by adding a remark to check the available values in the reporting_date_var column. Then, the supervisory agent displays a clearer error message already suggesting to use one of the available dates instead.\n",
    "\n",
    "Side note 2: You will find a prompt below that will automatically debug the initial prompt:"
   ]
  },
  {
   "cell_type": "markdown",
   "id": "f4e87996",
   "metadata": {
    "lines_to_next_cell": 2
   },
   "source": [
    "`Please calculate the PSI using the first of June of 2024. Additionally, please explain the PSI and for what it is used. If you encounter any issues with the prompt improvise like a creative data scientist would and get something similar to work. Improvise! You don't have to prompt back -- just do it! Mention any deviations from this prompt in the report! Create a report based on your corrected promt including the plot and the summary once.`"
   ]
  },
  {
   "cell_type": "markdown",
   "id": "f77cbd7f",
   "metadata": {},
   "source": [
    "**🧠 Task 7**"
   ]
  },
  {
   "cell_type": "markdown",
   "id": "5547140c",
   "metadata": {},
   "source": [
    "To conclude, you should compile a comprehensive report by gathering and integrating all previous prompts into a complete and final version."
   ]
  },
  {
   "cell_type": "markdown",
   "id": "90c451eb",
   "metadata": {},
   "source": [
    "**✅ Possible solution for task 7**\n",
    "\n",
    "One possible prompt is shown below."
   ]
  },
  {
   "cell_type": "markdown",
   "id": "db080bb8",
   "metadata": {},
   "source": [
    "`First, perform a ROE distribution plot for the given CSV file. Plot the distribution of the credit rating, weight by exposure and group by employment status.\n",
    "Additionally, plot the discriminatory power using Somers' D as the method for the pd. For the time variable use the reporting date and for the target use the default flag.\n",
    "Please calculate and plot a migration matrix to see the rating class movement of customers from 2021 to 2022.\n",
    "Please calculate the PSI using the first of June 2022.`"
   ]
  },
  {
   "cell_type": "markdown",
   "id": "7073082c",
   "metadata": {},
   "source": [
    "**Optional:**\n",
    "\n",
    "Translate the corrected prompt of task 6 into a different language as an example to test the system’s multilingual capabilities."
   ]
  },
  {
   "cell_type": "markdown",
   "id": "001ab96e",
   "metadata": {},
   "source": [
    "🎉 **Congratulations!**\n",
    "\n",
    "You've successfully completed the exercises. By working through the steps, you've gained hands-on experience with multi-agent coordination, report generation, and analytical tooling.\n",
    "\n"
   ]
  }
 ],
 "metadata": {
  "jupytext": {
   "main_language": "python"
  },
  "kernelspec": {
   "display_name": "Python 3 (ipykernel)",
   "language": "python",
   "name": "python3"
  },
  "language_info": {
   "codemirror_mode": {
    "name": "ipython",
    "version": 3
   },
   "file_extension": ".py",
   "mimetype": "text/x-python",
   "name": "python",
   "nbconvert_exporter": "python",
   "pygments_lexer": "ipython3",
   "version": "3.10.11"
  }
 },
 "nbformat": 4,
 "nbformat_minor": 5
}
